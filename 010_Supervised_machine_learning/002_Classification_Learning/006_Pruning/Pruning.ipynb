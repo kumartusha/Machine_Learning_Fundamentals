{
 "cells": [
  {
   "cell_type": "code",
   "execution_count": 1,
   "id": "4273d586-21da-4c40-ac60-f40e9d447a03",
   "metadata": {},
   "outputs": [
    {
     "name": "stdout",
     "output_type": "stream",
     "text": [
      "Pre-Pruning Accuracy: 100.0\n",
      "Post-Pruning Accuracy: 100.0\n"
     ]
    }
   ],
   "source": [
    "# Import necessary libraries\n",
    "from sklearn.datasets import load_iris\n",
    "from sklearn.model_selection import train_test_split\n",
    "from sklearn.tree import DecisionTreeClassifier\n",
    "from sklearn.metrics import accuracy_score\n",
    "\n",
    "# Load the Iris dataset\n",
    "data = load_iris()\n",
    "X = data.data  # Features\n",
    "y = data.target  # Labels\n",
    "\n",
    "# Split the dataset into training and testing sets\n",
    "X_train, X_test, y_train, y_test = train_test_split(X, y, test_size=0.3, random_state=42)\n",
    "\n",
    "# **Pre-Pruning**: Limit the depth of the tree to 3\n",
    "clf_pre_prune = DecisionTreeClassifier(max_depth=3, random_state=42)\n",
    "clf_pre_prune.fit(X_train, y_train)\n",
    "\n",
    "# **Post-Pruning**: Use Cost Complexity Pruning (alpha=0.01)\n",
    "clf_post_prune = DecisionTreeClassifier(random_state=42)\n",
    "clf_post_prune.fit(X_train, y_train)\n",
    "clf_post_prune = DecisionTreeClassifier(ccp_alpha=0.01, random_state=42)\n",
    "clf_post_prune.fit(X_train, y_train)\n",
    "\n",
    "# Predict and calculate accuracy for both models\n",
    "y_pred_pre_prune = clf_pre_prune.predict(X_test)\n",
    "y_pred_post_prune = clf_post_prune.predict(X_test)\n",
    "\n",
    "# Print accuracies\n",
    "print(\"Pre-Pruning Accuracy:\", accuracy_score(y_test, y_pred_pre_prune) * 100)\n",
    "print(\"Post-Pruning Accuracy:\", accuracy_score(y_test, y_pred_post_prune) * 100)\n"
   ]
  }
 ],
 "metadata": {
  "kernelspec": {
   "display_name": "Python 3 (ipykernel)",
   "language": "python",
   "name": "python3"
  },
  "language_info": {
   "codemirror_mode": {
    "name": "ipython",
    "version": 3
   },
   "file_extension": ".py",
   "mimetype": "text/x-python",
   "name": "python",
   "nbconvert_exporter": "python",
   "pygments_lexer": "ipython3",
   "version": "3.12.6"
  }
 },
 "nbformat": 4,
 "nbformat_minor": 5
}
