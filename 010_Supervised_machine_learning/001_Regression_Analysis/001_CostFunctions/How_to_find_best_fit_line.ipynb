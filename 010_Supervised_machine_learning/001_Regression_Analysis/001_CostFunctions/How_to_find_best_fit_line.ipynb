{
 "cells": [
  {
   "cell_type": "markdown",
   "id": "ff951171-973e-4adc-a0a8-4923018102da",
   "metadata": {},
   "source": [
    "# How to find the best fit line in linear regression ."
   ]
  },
  {
   "cell_type": "code",
   "execution_count": null,
   "id": "d885945d-2d41-4bb1-8b61-d4d51758213b",
   "metadata": {},
   "outputs": [],
   "source": []
  }
 ],
 "metadata": {
  "kernelspec": {
   "display_name": "Python 3 (ipykernel)",
   "language": "python",
   "name": "python3"
  },
  "language_info": {
   "codemirror_mode": {
    "name": "ipython",
    "version": 3
   },
   "file_extension": ".py",
   "mimetype": "text/x-python",
   "name": "python",
   "nbconvert_exporter": "python",
   "pygments_lexer": "ipython3",
   "version": "3.12.6"
  }
 },
 "nbformat": 4,
 "nbformat_minor": 5
}
