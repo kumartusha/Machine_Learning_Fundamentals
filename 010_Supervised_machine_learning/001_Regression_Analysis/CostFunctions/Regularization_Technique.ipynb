{
 "cells": [
  {
   "cell_type": "markdown",
   "id": "02cfed4b-cd10-439c-ac05-014d36601e62",
   "metadata": {},
   "source": [
    "# Regularization Technique in machine learning"
   ]
  },
  {
   "cell_type": "markdown",
   "id": "81ba6772-111b-41e0-8093-df3dec300bfd",
   "metadata": {},
   "source": [
    "# First:- Lasso Regularization"
   ]
  },
  {
   "cell_type": "code",
   "execution_count": null,
   "id": "07a43a43-fbb7-433f-b80a-a9f21c522009",
   "metadata": {},
   "outputs": [],
   "source": []
  }
 ],
 "metadata": {
  "kernelspec": {
   "display_name": "Python 3 (ipykernel)",
   "language": "python",
   "name": "python3"
  },
  "language_info": {
   "codemirror_mode": {
    "name": "ipython",
    "version": 3
   },
   "file_extension": ".py",
   "mimetype": "text/x-python",
   "name": "python",
   "nbconvert_exporter": "python",
   "pygments_lexer": "ipython3",
   "version": "3.12.6"
  }
 },
 "nbformat": 4,
 "nbformat_minor": 5
}
