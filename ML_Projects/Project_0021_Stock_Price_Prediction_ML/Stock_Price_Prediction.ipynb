{
 "cells": [
  {
   "cell_type": "code",
   "execution_count": 2,
   "id": "8a1833c4-b672-4926-b08c-1a4df8e9bcff",
   "metadata": {},
   "outputs": [],
   "source": [
    "# Import necessary libraries\n",
    "import yfinance as yf\n",
    "import pandas as pd\n",
    "import numpy as np\n",
    "from sklearn.model_selection import train_test_split\n",
    "from sklearn.ensemble import RandomForestRegressor\n",
    "from sklearn.metrics import mean_absolute_error\n",
    "import matplotlib.pyplot as plt"
   ]
  },
  {
   "cell_type": "code",
   "execution_count": null,
   "id": "8a675d2e-09ce-4069-b117-7af46cc3824a",
   "metadata": {},
   "outputs": [],
   "source": [
    "# Step 1: Download Stock Data (e.g., Apple Stock\n",
    "stock_symbol = 'AAPL'  # Example: Apple Stock\n",
    "start_date = '2015-01-01'\n",
    "end_date = '2023-01-01'\n",
    "\n",
    "# Download stock data using yfinance\n",
    "dataset = yf.download(stock_symbol, start=start_date, end=end_date)\n",
    "\n",
    "# Display the first few rows of data\n",
    "print(dataset)"
   ]
  },
  {
   "cell_type": "code",
   "execution_count": null,
   "id": "4757889c-3ff9-4ce3-9046-382f3a969e0e",
   "metadata": {},
   "outputs": [],
   "source": []
  },
  {
   "cell_type": "code",
   "execution_count": null,
   "id": "4eb2de40-2379-4de1-b185-4823ca78053a",
   "metadata": {},
   "outputs": [],
   "source": []
  },
  {
   "cell_type": "code",
   "execution_count": null,
   "id": "1565282e-2d53-4661-b77f-02cc52e4c108",
   "metadata": {},
   "outputs": [],
   "source": []
  },
  {
   "cell_type": "code",
   "execution_count": null,
   "id": "8f67e771-5a61-4951-aa9c-3e4c04a60f80",
   "metadata": {},
   "outputs": [],
   "source": [
    "# Step 2: Feature Engineering\n",
    "# Calculate Moving Averages\n",
    "stock_data['5_day_MA'] = stock_data['Close'].rolling(window=5).mean()\n",
    "stock_data['10_day_MA'] = stock_data['Close'].rolling(window=10).mean()\n",
    "stock_data['50_day_MA'] = stock_data['Close'].rolling(window=50).mean()\n",
    "\n",
    "# Calculate Relative Strength Index (RSI)\n",
    "delta = stock_data['Close'].diff()\n",
    "gain = delta.where(delta > 0, 0)\n",
    "loss = -delta.where(delta < 0, 0)\n",
    "\n",
    "avg_gain = gain.rolling(window=14).mean()\n",
    "avg_loss = loss.rolling(window=14).mean()\n",
    "\n",
    "rs = avg_gain / avg_loss\n",
    "stock_data['RSI'] = 100 - (100 / (1 + rs))\n",
    "\n",
    "# Calculate MACD (Moving Average Convergence Divergence)\n",
    "stock_data['26_day_EMA'] = stock_data['Close'].ewm(span=26, adjust=False).mean()\n",
    "stock_data['12_day_EMA'] = stock_data['Close'].ewm(span=12, adjust=False).mean()\n",
    "stock_data['MACD'] = stock_data['12_day_EMA'] - stock_data['26_day_EMA']\n",
    "stock_data['Signal_Line'] = stock_data['MACD'].ewm(span=9, adjust=False).mean()\n"
   ]
  },
  {
   "cell_type": "code",
   "execution_count": null,
   "id": "c2eafae8-785f-44cc-8a1e-ec6e79a43ff2",
   "metadata": {},
   "outputs": [],
   "source": []
  },
  {
   "cell_type": "code",
   "execution_count": null,
   "id": "5c5bc6e2-81f0-4da2-a13a-a0e30a1895f0",
   "metadata": {},
   "outputs": [],
   "source": [
    "# Drop rows with missing values\n",
    "stock_data.dropna(inplace=True)"
   ]
  },
  {
   "cell_type": "code",
   "execution_count": null,
   "id": "9442f835-45f4-40e5-b95a-7a21b3968df3",
   "metadata": {},
   "outputs": [],
   "source": []
  },
  {
   "cell_type": "code",
   "execution_count": null,
   "id": "5a1206f9-7e13-4dcc-b42c-96656f9338a7",
   "metadata": {},
   "outputs": [],
   "source": [
    "# Step 3: Define Features and Target Variable\n",
    "# Use technical indicators as features\n",
    "features = ['5_day_MA', '10_day_MA', '50_day_MA', 'RSI', 'MACD', 'Signal_Line', 'Volume']\n",
    "X = stock_data[features]\n",
    "\n",
    "# Target variable is the future closing price (next day's Close)\n",
    "y = stock_data['Close'].shift(-1).dropna()\n",
    "\n",
    "# Align the data (features and target)\n",
    "X = X.iloc[:-1]\n",
    "y = y.iloc[:-1]"
   ]
  },
  {
   "cell_type": "code",
   "execution_count": null,
   "id": "bd3650ad-30be-48a1-8d4e-e1c562f948f3",
   "metadata": {},
   "outputs": [],
   "source": []
  },
  {
   "cell_type": "code",
   "execution_count": null,
   "id": "69cc54ee-341d-4d03-97ff-80fff960a9ae",
   "metadata": {},
   "outputs": [],
   "source": [
    "# Step 4: Split Data into Training and Testing Sets\n",
    "X_train, X_test, y_train, y_test = train_test_split(X, y, test_size=0.2, shuffle=False)"
   ]
  },
  {
   "cell_type": "code",
   "execution_count": null,
   "id": "7d458c92-5586-4382-acc0-9a6b16732223",
   "metadata": {},
   "outputs": [],
   "source": []
  },
  {
   "cell_type": "code",
   "execution_count": null,
   "id": "22322b5b-b590-45e2-af60-d7b8608b4275",
   "metadata": {},
   "outputs": [],
   "source": [
    " # Step 5: Train a Random Forest Model\n",
    "model = RandomForestRegressor(n_estimators=100, random_state=42)\n",
    "model.fit(X_train, y_train)"
   ]
  },
  {
   "cell_type": "code",
   "execution_count": null,
   "id": "ab5ddf4c-8d03-4772-b7dc-6c4e061387d3",
   "metadata": {},
   "outputs": [],
   "source": []
  },
  {
   "cell_type": "code",
   "execution_count": null,
   "id": "4576ac2d-2d11-4e72-8162-f21f2a85f8ce",
   "metadata": {},
   "outputs": [],
   "source": [
    "# Step 6: Make Predictions\n",
    "predictions = model.predict(X_test)"
   ]
  },
  {
   "cell_type": "code",
   "execution_count": null,
   "id": "f741e6ec-060a-436f-a75c-02ff36b1d48e",
   "metadata": {},
   "outputs": [],
   "source": []
  },
  {
   "cell_type": "code",
   "execution_count": null,
   "id": "cee57d4d-43fc-4299-8a56-d3f15b489d49",
   "metadata": {},
   "outputs": [],
   "source": [
    "# Step 7: Evaluate the Model\n",
    "mae = mean_absolute_error(y_test, predictions)\n",
    "print(f'Mean Absolute Error: {mae}')\n",
    "\n"
   ]
  },
  {
   "cell_type": "code",
   "execution_count": null,
   "id": "d9604abf-0415-4f4e-a997-59ea7f3be50b",
   "metadata": {},
   "outputs": [],
   "source": []
  },
  {
   "cell_type": "code",
   "execution_count": null,
   "id": "d4d91890-6d2e-450d-9f68-f0f670bf9719",
   "metadata": {},
   "outputs": [],
   "source": [
    "# Step 8: Visualize the Predictions vs Actual Prices\n",
    "plt.figure(figsize=(10, 6))\n",
    "plt.plot(y_test.index, y_test.values, label='Actual Prices', color='blue')\n",
    "plt.plot(y_test.index, predictions, label='Predicted Prices', color='red', linestyle='--')\n",
    "plt.title(f'{stock_symbol} Stock Price Prediction')\n",
    "plt.xlabel('Date')\n",
    "plt.ylabel('Stock Price')\n",
    "plt.legend()\n",
    "plt.show()\n",
    "\n"
   ]
  },
  {
   "cell_type": "code",
   "execution_count": null,
   "id": "befe8241-0540-4f12-a6eb-2c8a5f80df3e",
   "metadata": {},
   "outputs": [],
   "source": [
    "# Step 9: Predict Future Price (for the next day)\n",
    "latest_data = stock_data[features].iloc[-1].values.reshape(1, -1)\n",
    "next_day_prediction = model.predict(latest_data)\n",
    "print(f'Predicted Next Day Closing Price: {next_day_prediction[0]}')"
   ]
  }
 ],
 "metadata": {
  "kernelspec": {
   "display_name": "Python 3 (ipykernel)",
   "language": "python",
   "name": "python3"
  },
  "language_info": {
   "codemirror_mode": {
    "name": "ipython",
    "version": 3
   },
   "file_extension": ".py",
   "mimetype": "text/x-python",
   "name": "python",
   "nbconvert_exporter": "python",
   "pygments_lexer": "ipython3",
   "version": "3.12.6"
  }
 },
 "nbformat": 4,
 "nbformat_minor": 5
}
