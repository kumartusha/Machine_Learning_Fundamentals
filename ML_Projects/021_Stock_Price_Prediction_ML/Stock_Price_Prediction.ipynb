{
 "cells": [
  {
   "cell_type": "code",
   "execution_count": 21,
   "id": "8a1833c4-b672-4926-b08c-1a4df8e9bcff",
   "metadata": {},
   "outputs": [],
   "source": [
    "# Import necessary libraries\n",
    "import yfinance as yf\n",
    "import pandas as pd\n",
    "import numpy as np\n",
    "from sklearn.model_selection import train_test_split\n",
    "from sklearn.ensemble import RandomForestRegressor\n",
    "from sklearn.metrics import mean_absolute_error, r2_score, mean_squared_error, root_mean_squared_error\n",
    "import matplotlib.pyplot as plt"
   ]
  },
  {
   "cell_type": "code",
   "execution_count": 22,
   "id": "5b34cc10-87ce-40f1-9ab5-fd6c7b61e13d",
   "metadata": {},
   "outputs": [],
   "source": [
    "#  Data Collection or Processing."
   ]
  },
  {
   "cell_type": "code",
   "execution_count": 25,
   "id": "8a675d2e-09ce-4069-b117-7af46cc3824a",
   "metadata": {},
   "outputs": [
    {
     "name": "stderr",
     "output_type": "stream",
     "text": [
      "[*********************100%***********************]  1 of 1 completed\n"
     ]
    },
    {
     "data": {
      "text/html": [
       "<div>\n",
       "<style scoped>\n",
       "    .dataframe tbody tr th:only-of-type {\n",
       "        vertical-align: middle;\n",
       "    }\n",
       "\n",
       "    .dataframe tbody tr th {\n",
       "        vertical-align: top;\n",
       "    }\n",
       "\n",
       "    .dataframe thead tr th {\n",
       "        text-align: left;\n",
       "    }\n",
       "\n",
       "    .dataframe thead tr:last-of-type th {\n",
       "        text-align: right;\n",
       "    }\n",
       "</style>\n",
       "<table border=\"1\" class=\"dataframe\">\n",
       "  <thead>\n",
       "    <tr>\n",
       "      <th>Price</th>\n",
       "      <th>Close</th>\n",
       "      <th>High</th>\n",
       "      <th>Low</th>\n",
       "      <th>Open</th>\n",
       "      <th>Volume</th>\n",
       "    </tr>\n",
       "    <tr>\n",
       "      <th>Ticker</th>\n",
       "      <th>AAPL</th>\n",
       "      <th>AAPL</th>\n",
       "      <th>AAPL</th>\n",
       "      <th>AAPL</th>\n",
       "      <th>AAPL</th>\n",
       "    </tr>\n",
       "    <tr>\n",
       "      <th>Date</th>\n",
       "      <th></th>\n",
       "      <th></th>\n",
       "      <th></th>\n",
       "      <th></th>\n",
       "      <th></th>\n",
       "    </tr>\n",
       "  </thead>\n",
       "  <tbody>\n",
       "    <tr>\n",
       "      <th>2015-01-02</th>\n",
       "      <td>24.347172</td>\n",
       "      <td>24.817057</td>\n",
       "      <td>23.906236</td>\n",
       "      <td>24.805922</td>\n",
       "      <td>212818400</td>\n",
       "    </tr>\n",
       "    <tr>\n",
       "      <th>2015-01-05</th>\n",
       "      <td>23.661274</td>\n",
       "      <td>24.195741</td>\n",
       "      <td>23.474212</td>\n",
       "      <td>24.115571</td>\n",
       "      <td>257142000</td>\n",
       "    </tr>\n",
       "    <tr>\n",
       "      <th>2015-01-06</th>\n",
       "      <td>23.663496</td>\n",
       "      <td>23.924048</td>\n",
       "      <td>23.300503</td>\n",
       "      <td>23.725850</td>\n",
       "      <td>263188400</td>\n",
       "    </tr>\n",
       "    <tr>\n",
       "      <th>2015-01-07</th>\n",
       "      <td>23.995317</td>\n",
       "      <td>24.095529</td>\n",
       "      <td>23.761488</td>\n",
       "      <td>23.872835</td>\n",
       "      <td>160423600</td>\n",
       "    </tr>\n",
       "    <tr>\n",
       "      <th>2015-01-08</th>\n",
       "      <td>24.917269</td>\n",
       "      <td>24.975170</td>\n",
       "      <td>24.206873</td>\n",
       "      <td>24.324903</td>\n",
       "      <td>237458000</td>\n",
       "    </tr>\n",
       "  </tbody>\n",
       "</table>\n",
       "</div>"
      ],
      "text/plain": [
       "Price           Close       High        Low       Open     Volume\n",
       "Ticker           AAPL       AAPL       AAPL       AAPL       AAPL\n",
       "Date                                                             \n",
       "2015-01-02  24.347172  24.817057  23.906236  24.805922  212818400\n",
       "2015-01-05  23.661274  24.195741  23.474212  24.115571  257142000\n",
       "2015-01-06  23.663496  23.924048  23.300503  23.725850  263188400\n",
       "2015-01-07  23.995317  24.095529  23.761488  23.872835  160423600\n",
       "2015-01-08  24.917269  24.975170  24.206873  24.324903  237458000"
      ]
     },
     "execution_count": 25,
     "metadata": {},
     "output_type": "execute_result"
    }
   ],
   "source": [
    "\n",
    "stock_symbol = 'AAPL'  # Example: Apple Stock\n",
    "start_date = '2015-01-01'\n",
    "end_date = '2025-01-01'\n",
    "\n",
    "# Download stock data using yfinance\n",
    "stock_data = yf.download(stock_symbol, start=start_date, end=end_date)\n",
    "\n",
    "# Display the first few rows of data\n",
    "# print(dataset)\n",
    "stock_data.head()"
   ]
  },
  {
   "cell_type": "code",
   "execution_count": null,
   "id": "4757889c-3ff9-4ce3-9046-382f3a969e0e",
   "metadata": {},
   "outputs": [],
   "source": []
  },
  {
   "cell_type": "code",
   "execution_count": 16,
   "id": "4eb2de40-2379-4de1-b185-4823ca78053a",
   "metadata": {},
   "outputs": [
    {
     "data": {
      "text/plain": [
       "(2516, 5)"
      ]
     },
     "execution_count": 16,
     "metadata": {},
     "output_type": "execute_result"
    }
   ],
   "source": [
    "# Data Analyzing.\n",
    "stock_data.shape\n",
    "\n",
    "#  so we have the 2516 rows and the 5 columns."
   ]
  },
  {
   "cell_type": "code",
   "execution_count": 18,
   "id": "1565282e-2d53-4661-b77f-02cc52e4c108",
   "metadata": {},
   "outputs": [
    {
     "name": "stdout",
     "output_type": "stream",
     "text": [
      "<class 'pandas.core.frame.DataFrame'>\n",
      "DatetimeIndex: 2516 entries, 2015-01-02 to 2024-12-31\n",
      "Data columns (total 5 columns):\n",
      " #   Column          Non-Null Count  Dtype  \n",
      "---  ------          --------------  -----  \n",
      " 0   (Close, AAPL)   2516 non-null   float64\n",
      " 1   (High, AAPL)    2516 non-null   float64\n",
      " 2   (Low, AAPL)     2516 non-null   float64\n",
      " 3   (Open, AAPL)    2516 non-null   float64\n",
      " 4   (Volume, AAPL)  2516 non-null   int64  \n",
      "dtypes: float64(4), int64(1)\n",
      "memory usage: 117.9 KB\n"
     ]
    }
   ],
   "source": [
    "#  information of the dataset.\n",
    "stock_data.info()"
   ]
  },
  {
   "cell_type": "code",
   "execution_count": 19,
   "id": "e7672320-fe2e-4d8e-a9fc-b7cffdf66332",
   "metadata": {},
   "outputs": [
    {
     "data": {
      "text/html": [
       "<div>\n",
       "<style scoped>\n",
       "    .dataframe tbody tr th:only-of-type {\n",
       "        vertical-align: middle;\n",
       "    }\n",
       "\n",
       "    .dataframe tbody tr th {\n",
       "        vertical-align: top;\n",
       "    }\n",
       "\n",
       "    .dataframe thead tr th {\n",
       "        text-align: left;\n",
       "    }\n",
       "</style>\n",
       "<table border=\"1\" class=\"dataframe\">\n",
       "  <thead>\n",
       "    <tr>\n",
       "      <th>Price</th>\n",
       "      <th>Close</th>\n",
       "      <th>High</th>\n",
       "      <th>Low</th>\n",
       "      <th>Open</th>\n",
       "      <th>Volume</th>\n",
       "    </tr>\n",
       "    <tr>\n",
       "      <th>Ticker</th>\n",
       "      <th>AAPL</th>\n",
       "      <th>AAPL</th>\n",
       "      <th>AAPL</th>\n",
       "      <th>AAPL</th>\n",
       "      <th>AAPL</th>\n",
       "    </tr>\n",
       "  </thead>\n",
       "  <tbody>\n",
       "    <tr>\n",
       "      <th>count</th>\n",
       "      <td>2516.000000</td>\n",
       "      <td>2516.000000</td>\n",
       "      <td>2516.000000</td>\n",
       "      <td>2516.000000</td>\n",
       "      <td>2.516000e+03</td>\n",
       "    </tr>\n",
       "    <tr>\n",
       "      <th>mean</th>\n",
       "      <td>94.283436</td>\n",
       "      <td>95.199065</td>\n",
       "      <td>93.265184</td>\n",
       "      <td>94.196218</td>\n",
       "      <td>1.170867e+08</td>\n",
       "    </tr>\n",
       "    <tr>\n",
       "      <th>std</th>\n",
       "      <td>65.737265</td>\n",
       "      <td>66.333373</td>\n",
       "      <td>65.047489</td>\n",
       "      <td>65.656689</td>\n",
       "      <td>6.839957e+07</td>\n",
       "    </tr>\n",
       "    <tr>\n",
       "      <th>min</th>\n",
       "      <td>20.697264</td>\n",
       "      <td>21.001971</td>\n",
       "      <td>20.497944</td>\n",
       "      <td>20.619367</td>\n",
       "      <td>2.323470e+07</td>\n",
       "    </tr>\n",
       "    <tr>\n",
       "      <th>25%</th>\n",
       "      <td>35.382253</td>\n",
       "      <td>35.781973</td>\n",
       "      <td>35.002487</td>\n",
       "      <td>35.402551</td>\n",
       "      <td>7.105610e+07</td>\n",
       "    </tr>\n",
       "    <tr>\n",
       "      <th>50%</th>\n",
       "      <td>64.679226</td>\n",
       "      <td>65.236481</td>\n",
       "      <td>63.873650</td>\n",
       "      <td>64.519062</td>\n",
       "      <td>1.003646e+08</td>\n",
       "    </tr>\n",
       "    <tr>\n",
       "      <th>75%</th>\n",
       "      <td>150.913479</td>\n",
       "      <td>152.669429</td>\n",
       "      <td>148.938303</td>\n",
       "      <td>150.735438</td>\n",
       "      <td>1.426216e+08</td>\n",
       "    </tr>\n",
       "    <tr>\n",
       "      <th>max</th>\n",
       "      <td>259.019989</td>\n",
       "      <td>260.100006</td>\n",
       "      <td>257.630005</td>\n",
       "      <td>258.190002</td>\n",
       "      <td>6.488252e+08</td>\n",
       "    </tr>\n",
       "  </tbody>\n",
       "</table>\n",
       "</div>"
      ],
      "text/plain": [
       "Price         Close         High          Low         Open        Volume\n",
       "Ticker         AAPL         AAPL         AAPL         AAPL          AAPL\n",
       "count   2516.000000  2516.000000  2516.000000  2516.000000  2.516000e+03\n",
       "mean      94.283436    95.199065    93.265184    94.196218  1.170867e+08\n",
       "std       65.737265    66.333373    65.047489    65.656689  6.839957e+07\n",
       "min       20.697264    21.001971    20.497944    20.619367  2.323470e+07\n",
       "25%       35.382253    35.781973    35.002487    35.402551  7.105610e+07\n",
       "50%       64.679226    65.236481    63.873650    64.519062  1.003646e+08\n",
       "75%      150.913479   152.669429   148.938303   150.735438  1.426216e+08\n",
       "max      259.019989   260.100006   257.630005   258.190002  6.488252e+08"
      ]
     },
     "execution_count": 19,
     "metadata": {},
     "output_type": "execute_result"
    }
   ],
   "source": [
    "#  getting the statistical methods of the dataset.\n",
    "stock_data.describe()"
   ]
  },
  {
   "cell_type": "code",
   "execution_count": null,
   "id": "8685e17d-76f6-4fd7-b26e-b79ef05e1526",
   "metadata": {},
   "outputs": [],
   "source": []
  },
  {
   "cell_type": "code",
   "execution_count": 26,
   "id": "58b02457-1e0f-4861-8a7c-37bafa0d48f1",
   "metadata": {},
   "outputs": [
    {
     "data": {
      "text/plain": [
       "Price   Ticker\n",
       "Close   AAPL      0\n",
       "High    AAPL      0\n",
       "Low     AAPL      0\n",
       "Open    AAPL      0\n",
       "Volume  AAPL      0\n",
       "dtype: int64"
      ]
     },
     "execution_count": 26,
     "metadata": {},
     "output_type": "execute_result"
    }
   ],
   "source": [
    "#  Checking the null values into the dataset.\n",
    "stock_data.isnull().sum()"
   ]
  },
  {
   "cell_type": "code",
   "execution_count": null,
   "id": "8252efcb-1720-4f3e-89aa-39757982a3ee",
   "metadata": {},
   "outputs": [],
   "source": []
  },
  {
   "cell_type": "code",
   "execution_count": null,
   "id": "c8f96e90-c5d9-4c62-b1c2-84d21189f32f",
   "metadata": {},
   "outputs": [],
   "source": []
  },
  {
   "cell_type": "code",
   "execution_count": 30,
   "id": "8f67e771-5a61-4951-aa9c-3e4c04a60f80",
   "metadata": {},
   "outputs": [],
   "source": [
    "# Step 2: Feature Engineering\n",
    "# Calculate Moving Averages\n",
    "stock_data['5_day_MA'] = stock_data['Close'].rolling(window=5).mean()\n",
    "stock_data['10_day_MA'] = stock_data['Close'].rolling(window=10).mean()\n",
    "stock_data['50_day_MA'] = stock_data['Close'].rolling(window=50).mean()\n",
    "\n",
    "# # Calculate Relative Strength Index (RSI)\n",
    "# delta = stock_data['Close'].diff()\n",
    "# gain = delta.where(delta > 0, 0)\n",
    "# loss = -delta.where(delta < 0, 0)\n",
    "\n",
    "# avg_gain = gain.rolling(window=14).mean()\n",
    "# avg_loss = loss.rolling(window=14).mean()\n",
    "\n",
    "# rs = avg_gain / avg_loss\n",
    "# stock_data['RSI'] = 100 - (100 / (1 + rs))\n",
    "\n",
    "# # Calculate MACD (Moving Average Convergence Divergence)\n",
    "# stock_data['26_day_EMA'] = stock_data['Close'].ewm(span=26, adjust=False).mean()\n",
    "# stock_data['12_day_EMA'] = stock_data['Close'].ewm(span=12, adjust=False).mean()\n",
    "# stock_data['MACD'] = stock_data['12_day_EMA'] - stock_data['26_day_EMA']\n",
    "# stock_data['Signal_Line'] = stock_data['MACD'].ewm(span=9, adjust=False).mean()\n"
   ]
  },
  {
   "cell_type": "code",
   "execution_count": 31,
   "id": "c2eafae8-785f-44cc-8a1e-ec6e79a43ff2",
   "metadata": {},
   "outputs": [
    {
     "data": {
      "text/html": [
       "<div>\n",
       "<style scoped>\n",
       "    .dataframe tbody tr th:only-of-type {\n",
       "        vertical-align: middle;\n",
       "    }\n",
       "\n",
       "    .dataframe tbody tr th {\n",
       "        vertical-align: top;\n",
       "    }\n",
       "\n",
       "    .dataframe thead tr th {\n",
       "        text-align: left;\n",
       "    }\n",
       "\n",
       "    .dataframe thead tr:last-of-type th {\n",
       "        text-align: right;\n",
       "    }\n",
       "</style>\n",
       "<table border=\"1\" class=\"dataframe\">\n",
       "  <thead>\n",
       "    <tr>\n",
       "      <th>Price</th>\n",
       "      <th>Close</th>\n",
       "      <th>High</th>\n",
       "      <th>Low</th>\n",
       "      <th>Open</th>\n",
       "      <th>Volume</th>\n",
       "      <th>5_day_MA</th>\n",
       "      <th>10_day_MA</th>\n",
       "      <th>50_day_MA</th>\n",
       "    </tr>\n",
       "    <tr>\n",
       "      <th>Ticker</th>\n",
       "      <th>AAPL</th>\n",
       "      <th>AAPL</th>\n",
       "      <th>AAPL</th>\n",
       "      <th>AAPL</th>\n",
       "      <th>AAPL</th>\n",
       "      <th></th>\n",
       "      <th></th>\n",
       "      <th></th>\n",
       "    </tr>\n",
       "    <tr>\n",
       "      <th>Date</th>\n",
       "      <th></th>\n",
       "      <th></th>\n",
       "      <th></th>\n",
       "      <th></th>\n",
       "      <th></th>\n",
       "      <th></th>\n",
       "      <th></th>\n",
       "      <th></th>\n",
       "    </tr>\n",
       "  </thead>\n",
       "  <tbody>\n",
       "    <tr>\n",
       "      <th>2015-01-02</th>\n",
       "      <td>24.347172</td>\n",
       "      <td>24.817057</td>\n",
       "      <td>23.906236</td>\n",
       "      <td>24.805922</td>\n",
       "      <td>212818400</td>\n",
       "      <td>NaN</td>\n",
       "      <td>NaN</td>\n",
       "      <td>NaN</td>\n",
       "    </tr>\n",
       "    <tr>\n",
       "      <th>2015-01-05</th>\n",
       "      <td>23.661274</td>\n",
       "      <td>24.195741</td>\n",
       "      <td>23.474212</td>\n",
       "      <td>24.115571</td>\n",
       "      <td>257142000</td>\n",
       "      <td>NaN</td>\n",
       "      <td>NaN</td>\n",
       "      <td>NaN</td>\n",
       "    </tr>\n",
       "    <tr>\n",
       "      <th>2015-01-06</th>\n",
       "      <td>23.663496</td>\n",
       "      <td>23.924048</td>\n",
       "      <td>23.300503</td>\n",
       "      <td>23.725850</td>\n",
       "      <td>263188400</td>\n",
       "      <td>NaN</td>\n",
       "      <td>NaN</td>\n",
       "      <td>NaN</td>\n",
       "    </tr>\n",
       "    <tr>\n",
       "      <th>2015-01-07</th>\n",
       "      <td>23.995317</td>\n",
       "      <td>24.095529</td>\n",
       "      <td>23.761488</td>\n",
       "      <td>23.872835</td>\n",
       "      <td>160423600</td>\n",
       "      <td>NaN</td>\n",
       "      <td>NaN</td>\n",
       "      <td>NaN</td>\n",
       "    </tr>\n",
       "    <tr>\n",
       "      <th>2015-01-08</th>\n",
       "      <td>24.917269</td>\n",
       "      <td>24.975170</td>\n",
       "      <td>24.206873</td>\n",
       "      <td>24.324903</td>\n",
       "      <td>237458000</td>\n",
       "      <td>NaN</td>\n",
       "      <td>NaN</td>\n",
       "      <td>NaN</td>\n",
       "    </tr>\n",
       "  </tbody>\n",
       "</table>\n",
       "</div>"
      ],
      "text/plain": [
       "Price           Close       High        Low       Open     Volume 5_day_MA  \\\n",
       "Ticker           AAPL       AAPL       AAPL       AAPL       AAPL            \n",
       "Date                                                                         \n",
       "2015-01-02  24.347172  24.817057  23.906236  24.805922  212818400      NaN   \n",
       "2015-01-05  23.661274  24.195741  23.474212  24.115571  257142000      NaN   \n",
       "2015-01-06  23.663496  23.924048  23.300503  23.725850  263188400      NaN   \n",
       "2015-01-07  23.995317  24.095529  23.761488  23.872835  160423600      NaN   \n",
       "2015-01-08  24.917269  24.975170  24.206873  24.324903  237458000      NaN   \n",
       "\n",
       "Price      10_day_MA 50_day_MA  \n",
       "Ticker                          \n",
       "Date                            \n",
       "2015-01-02       NaN       NaN  \n",
       "2015-01-05       NaN       NaN  \n",
       "2015-01-06       NaN       NaN  \n",
       "2015-01-07       NaN       NaN  \n",
       "2015-01-08       NaN       NaN  "
      ]
     },
     "execution_count": 31,
     "metadata": {},
     "output_type": "execute_result"
    }
   ],
   "source": [
    "stock_data.head()"
   ]
  },
  {
   "cell_type": "code",
   "execution_count": null,
   "id": "5c5bc6e2-81f0-4da2-a13a-a0e30a1895f0",
   "metadata": {},
   "outputs": [],
   "source": [
    "# Drop rows with missing values\n",
    "stock_data.dropna(inplace=True)"
   ]
  },
  {
   "cell_type": "code",
   "execution_count": null,
   "id": "9442f835-45f4-40e5-b95a-7a21b3968df3",
   "metadata": {},
   "outputs": [],
   "source": []
  },
  {
   "cell_type": "code",
   "execution_count": null,
   "id": "5a1206f9-7e13-4dcc-b42c-96656f9338a7",
   "metadata": {},
   "outputs": [],
   "source": [
    "# Step 3: Define Features and Target Variable\n",
    "# Use technical indicators as features\n",
    "features = ['5_day_MA', '10_day_MA', '50_day_MA', 'RSI', 'MACD', 'Signal_Line', 'Volume']\n",
    "X = stock_data[features]\n",
    "\n",
    "# Target variable is the future closing price (next day's Close)\n",
    "y = stock_data['Close'].shift(-1).dropna()\n",
    "\n",
    "# Align the data (features and target)\n",
    "X = X.iloc[:-1]\n",
    "y = y.iloc[:-1]"
   ]
  },
  {
   "cell_type": "code",
   "execution_count": null,
   "id": "bd3650ad-30be-48a1-8d4e-e1c562f948f3",
   "metadata": {},
   "outputs": [],
   "source": []
  },
  {
   "cell_type": "code",
   "execution_count": null,
   "id": "69cc54ee-341d-4d03-97ff-80fff960a9ae",
   "metadata": {},
   "outputs": [],
   "source": [
    "# Step 4: Split Data into Training and Testing Sets\n",
    "X_train, X_test, y_train, y_test = train_test_split(X, y, test_size=0.2, shuffle=False)"
   ]
  },
  {
   "cell_type": "code",
   "execution_count": null,
   "id": "7d458c92-5586-4382-acc0-9a6b16732223",
   "metadata": {},
   "outputs": [],
   "source": []
  },
  {
   "cell_type": "code",
   "execution_count": null,
   "id": "22322b5b-b590-45e2-af60-d7b8608b4275",
   "metadata": {},
   "outputs": [],
   "source": [
    " # Step 5: Train a Random Forest Model\n",
    "model = RandomForestRegressor(n_estimators=100, random_state=42)\n",
    "model.fit(X_train, y_train)"
   ]
  },
  {
   "cell_type": "code",
   "execution_count": null,
   "id": "ab5ddf4c-8d03-4772-b7dc-6c4e061387d3",
   "metadata": {},
   "outputs": [],
   "source": []
  },
  {
   "cell_type": "code",
   "execution_count": null,
   "id": "4576ac2d-2d11-4e72-8162-f21f2a85f8ce",
   "metadata": {},
   "outputs": [],
   "source": [
    "# Step 6: Make Predictions\n",
    "predictions = model.predict(X_test)"
   ]
  },
  {
   "cell_type": "code",
   "execution_count": null,
   "id": "f741e6ec-060a-436f-a75c-02ff36b1d48e",
   "metadata": {},
   "outputs": [],
   "source": []
  },
  {
   "cell_type": "code",
   "execution_count": null,
   "id": "cee57d4d-43fc-4299-8a56-d3f15b489d49",
   "metadata": {},
   "outputs": [],
   "source": [
    "# Step 7: Evaluate the Model\n",
    "mae = mean_absolute_error(y_test, predictions)\n",
    "print(f'Mean Absolute Error: {mae}')\n",
    "\n"
   ]
  },
  {
   "cell_type": "code",
   "execution_count": null,
   "id": "d9604abf-0415-4f4e-a997-59ea7f3be50b",
   "metadata": {},
   "outputs": [],
   "source": []
  },
  {
   "cell_type": "code",
   "execution_count": null,
   "id": "d4d91890-6d2e-450d-9f68-f0f670bf9719",
   "metadata": {},
   "outputs": [],
   "source": [
    "# Step 8: Visualize the Predictions vs Actual Prices\n",
    "plt.figure(figsize=(10, 6))\n",
    "plt.plot(y_test.index, y_test.values, label='Actual Prices', color='blue')\n",
    "plt.plot(y_test.index, predictions, label='Predicted Prices', color='red', linestyle='--')\n",
    "plt.title(f'{stock_symbol} Stock Price Prediction')\n",
    "plt.xlabel('Date')\n",
    "plt.ylabel('Stock Price')\n",
    "plt.legend()\n",
    "plt.show()\n",
    "\n"
   ]
  },
  {
   "cell_type": "code",
   "execution_count": null,
   "id": "befe8241-0540-4f12-a6eb-2c8a5f80df3e",
   "metadata": {},
   "outputs": [],
   "source": [
    "# Step 9: Predict Future Price (for the next day)\n",
    "latest_data = stock_data[features].iloc[-1].values.reshape(1, -1)\n",
    "next_day_prediction = model.predict(latest_data)\n",
    "print(f'Predicted Next Day Closing Price: {next_day_prediction[0]}')"
   ]
  }
 ],
 "metadata": {
  "kernelspec": {
   "display_name": "Python 3 (ipykernel)",
   "language": "python",
   "name": "python3"
  },
  "language_info": {
   "codemirror_mode": {
    "name": "ipython",
    "version": 3
   },
   "file_extension": ".py",
   "mimetype": "text/x-python",
   "name": "python",
   "nbconvert_exporter": "python",
   "pygments_lexer": "ipython3",
   "version": "3.12.6"
  }
 },
 "nbformat": 4,
 "nbformat_minor": 5
}
