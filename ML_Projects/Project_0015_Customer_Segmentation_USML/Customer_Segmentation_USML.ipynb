{
 "cells": [
  {
   "cell_type": "markdown",
   "id": "548c671f-2ef0-40e1-99f5-d844a9be8de3",
   "metadata": {},
   "source": [
    "# Customer_Segmentation_USML"
   ]
  },
  {
   "cell_type": "code",
   "execution_count": 1,
   "id": "d521db82-0c1e-4ae6-8653-207dd2b8bba5",
   "metadata": {},
   "outputs": [],
   "source": [
    "#  Import the required Library for the Project.\n",
    "import numpy as np\n",
    "import pandas as pd\n",
    "import matplotlib.pyplot as plt\n",
    "import seaborn as sns"
   ]
  },
  {
   "cell_type": "code",
   "execution_count": null,
   "id": "5bc9973c-d92f-422d-b8c6-ba5413719fc9",
   "metadata": {},
   "outputs": [],
   "source": []
  }
 ],
 "metadata": {
  "kernelspec": {
   "display_name": "Python 3 (ipykernel)",
   "language": "python",
   "name": "python3"
  },
  "language_info": {
   "codemirror_mode": {
    "name": "ipython",
    "version": 3
   },
   "file_extension": ".py",
   "mimetype": "text/x-python",
   "name": "python",
   "nbconvert_exporter": "python",
   "pygments_lexer": "ipython3",
   "version": "3.12.6"
  }
 },
 "nbformat": 4,
 "nbformat_minor": 5
}
