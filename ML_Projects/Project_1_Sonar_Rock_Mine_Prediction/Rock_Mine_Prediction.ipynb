{
 "cells": [
  {
   "cell_type": "markdown",
   "id": "ef00ef6f-9e77-4a76-8996-b957d49a4381",
   "metadata": {},
   "source": [
    "# SONAR ROCK VS MINE PREDICTION"
   ]
  },
  {
   "cell_type": "code",
   "execution_count": null,
   "id": "c8b5bcd1-42c5-4661-9119-8796e370eabd",
   "metadata": {},
   "outputs": [],
   "source": []
  }
 ],
 "metadata": {
  "kernelspec": {
   "display_name": "Python 3 (ipykernel)",
   "language": "python",
   "name": "python3"
  },
  "language_info": {
   "codemirror_mode": {
    "name": "ipython",
    "version": 3
   },
   "file_extension": ".py",
   "mimetype": "text/x-python",
   "name": "python",
   "nbconvert_exporter": "python",
   "pygments_lexer": "ipython3",
   "version": "3.12.6"
  }
 },
 "nbformat": 4,
 "nbformat_minor": 5
}
