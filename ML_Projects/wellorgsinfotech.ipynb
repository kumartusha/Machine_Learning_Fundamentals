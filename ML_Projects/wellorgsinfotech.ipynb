{
 "cells": [
  {
   "cell_type": "code",
   "execution_count": 1,
   "id": "c181f40e-627f-4265-a994-54cf0b3582de",
   "metadata": {},
   "outputs": [
    {
     "name": "stdout",
     "output_type": "stream",
     "text": [
      "15\n",
      "10\n"
     ]
    }
   ],
   "source": [
    "a = 10\n",
    "b = 15\n",
    "\n",
    "#  we need to swap the value.\n",
    "a,b = b,a\n",
    "\n",
    "print(a)\n",
    "print(b)"
   ]
  },
  {
   "cell_type": "code",
   "execution_count": 1,
   "id": "53d92e67-e236-46c7-b41b-5a37a35b812a",
   "metadata": {},
   "outputs": [
    {
     "name": "stdout",
     "output_type": "stream",
     "text": [
      "The string are palindrome\n"
     ]
    }
   ],
   "source": [
    "str1 = \"radar\"\n",
    "# print(str1)\n",
    "\n",
    "str_rev = str1[::-1]\n",
    "\n",
    "if str_rev == str1:\n",
    "    print(\"The string are palindrome\")\n",
    "else:\n",
    "    print(\"The string are not palindrome\")"
   ]
  },
  {
   "cell_type": "code",
   "execution_count": null,
   "id": "e931a723-d8fd-4205-8231-1f0a379d0730",
   "metadata": {},
   "outputs": [],
   "source": []
  },
  {
   "cell_type": "code",
   "execution_count": null,
   "id": "93ba0df9-d02d-4908-974f-7f162e3b9a44",
   "metadata": {},
   "outputs": [],
   "source": []
  },
  {
   "cell_type": "code",
   "execution_count": 3,
   "id": "737814c5-9eb3-43c3-9565-0c1b7b844e58",
   "metadata": {},
   "outputs": [
    {
     "name": "stdout",
     "output_type": "stream",
     "text": [
      "['Tushar', ' Kumar']\n"
     ]
    }
   ],
   "source": [
    "str1 = \"Tushar Kumar\"\n",
    "list1 = []\n",
    "\n",
    "demoStr = \"\"\n",
    "for i in str1:\n",
    "    if i == \" \":\n",
    "        list1.append(demoStr)\n",
    "        demoStr = \"\"\n",
    "    demoStr += i\n",
    "    \n",
    "list1.append(demoStr)\n",
    "\n",
    "print(list1)"
   ]
  },
  {
   "cell_type": "code",
   "execution_count": null,
   "id": "ad224ac0-3750-4a8e-9a4d-534c15139126",
   "metadata": {},
   "outputs": [],
   "source": [
    "# from langchain_community"
   ]
  }
 ],
 "metadata": {
  "kernelspec": {
   "display_name": "Python 3 (ipykernel)",
   "language": "python",
   "name": "python3"
  },
  "language_info": {
   "codemirror_mode": {
    "name": "ipython",
    "version": 3
   },
   "file_extension": ".py",
   "mimetype": "text/x-python",
   "name": "python",
   "nbconvert_exporter": "python",
   "pygments_lexer": "ipython3",
   "version": "3.12.6"
  }
 },
 "nbformat": 4,
 "nbformat_minor": 5
}
