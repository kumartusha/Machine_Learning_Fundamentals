{
 "cells": [
  {
   "cell_type": "code",
   "execution_count": 1,
   "id": "bfafe29c-db60-49f5-9824-1aac1472d6c0",
   "metadata": {},
   "outputs": [],
   "source": [
    "import pandas as pd"
   ]
  },
  {
   "cell_type": "code",
   "execution_count": 5,
   "id": "a706cec6-b730-495e-8239-3b78b529768f",
   "metadata": {},
   "outputs": [
    {
     "data": {
      "text/plain": [
       "tushar     1\n",
       "kumar      2\n",
       "rakshit    3\n",
       "shivam     4\n",
       "ankit      5\n",
       "dtype: int64"
      ]
     },
     "execution_count": 5,
     "metadata": {},
     "output_type": "execute_result"
    }
   ],
   "source": [
    "#  How to create the series into the pandas and also the dataframe into the pandas for the machine learning...\n",
    "# dataset = pd.Series([1,2,3,4,5], index = [10,11,12,13,14])\n",
    "# dataset = pd.Series([1,2,3,4,5], index = [\"tushar\", \"kumar\", \"rakshit\", \"shivam\", \"ankit\"])\n",
    "# dataset = pd.Series([1,2,3,4,5], index = ['a', 'b', 'c', 'd', 'e'])\n",
    "# dataset"
   ]
  },
  {
   "cell_type": "code",
   "execution_count": null,
   "id": "d02e2407-bd7d-4fa7-91b1-32e027061d5a",
   "metadata": {},
   "outputs": [],
   "source": []
  },
  {
   "cell_type": "code",
   "execution_count": 22,
   "id": "b0f9f423-356b-4820-834d-3a6637e6b48f",
   "metadata": {},
   "outputs": [],
   "source": [
    "# dataset = pd.DataFrame({\"Name\": ['Tushar', 'Ankit', 'Kumar', 'Munna', 'Shanky'], \n",
    "#                        \"Age\": [21,22,22,25,25],\n",
    "#                        \"Marks\": [89,93,94,78,100]}, index = [\"First\", \"Seccond\", \"Third\", \"Fourth\", \"Fifth\"])\n",
    "# # dataset[\"Age\"].sum(), dataset[\"Age\"].mean(), dataset[\"Age\"].median()\n",
    "# dataset[\"Age\"].mode()"
   ]
  },
  {
   "cell_type": "code",
   "execution_count": 42,
   "id": "fdd88370-d4ee-49f6-9828-e7a1ee9d6569",
   "metadata": {},
   "outputs": [],
   "source": [
    "# # # Data Received by the other sources..\n",
    "# dataset = pd.read_csv(r\"C:\\Users\\USER\\OneDrive\\Desktop\\Github\\Machine_Learning_Github\\Machine_Learning_Fundamentals\\01_Datasets\\laptopData.csv\")\n",
    "# dataset"
   ]
  },
  {
   "cell_type": "code",
   "execution_count": 43,
   "id": "7dd6d2f7-df1e-4be4-834e-a4492de02ecc",
   "metadata": {},
   "outputs": [],
   "source": [
    "# # dataset = pd.read_excel(r\"C:\\Users\\USER\\OneDrive\\Desktop\\Github\\Machine_Learning_Github\\Machine_Learning_Fundamentals\\01_Datasets\\Cola.xlsx\")\n",
    "# # dataset\n",
    "# dataset = pd.read_json(r\"C:\\Users\\USER\\OneDrive\\Desktop\\Github\\Machine_Learning_Github\\Machine_Learning_Fundamentals\\01_Datasets\\relaxed.json\")\n",
    "# dataset\n",
    "# dataset = pd.read_json(r\"C:\\Users\\USER\\OneDrive\\Desktop\\Github\\Machine_Learning_Github\\Machine_Learning_Fundamentals\\01_Datasets\\relaxed.json\", orient=\"records\")\n",
    "# dataset\n",
    "# dataset = pd.read_json(r\"C:\\Users\\USER\\OneDrive\\Desktop\\Github\\Machine_Learning_Github\\Machine_Learning_Fundamentals\\01_Datasets\\demo.json\", lines=True)\n",
    "# dataset.shape\n"
   ]
  },
  {
   "cell_type": "code",
   "execution_count": null,
   "id": "a5c5bb5c-1b15-4d21-887f-52917329a916",
   "metadata": {},
   "outputs": [],
   "source": []
  },
  {
   "cell_type": "code",
   "execution_count": 48,
   "id": "162794cb-045a-460b-a199-9ad7f1b5d35a",
   "metadata": {},
   "outputs": [
    {
     "data": {
      "text/html": [
       "<div>\n",
       "<style scoped>\n",
       "    .dataframe tbody tr th:only-of-type {\n",
       "        vertical-align: middle;\n",
       "    }\n",
       "\n",
       "    .dataframe tbody tr th {\n",
       "        vertical-align: top;\n",
       "    }\n",
       "\n",
       "    .dataframe thead th {\n",
       "        text-align: right;\n",
       "    }\n",
       "</style>\n",
       "<table border=\"1\" class=\"dataframe\">\n",
       "  <thead>\n",
       "    <tr style=\"text-align: right;\">\n",
       "      <th></th>\n",
       "      <th>Unnamed: 0</th>\n",
       "      <th>Company</th>\n",
       "      <th>TypeName</th>\n",
       "      <th>Inches</th>\n",
       "      <th>ScreenResolution</th>\n",
       "      <th>Cpu</th>\n",
       "      <th>Ram</th>\n",
       "      <th>Memory</th>\n",
       "      <th>Gpu</th>\n",
       "      <th>OpSys</th>\n",
       "      <th>Weight</th>\n",
       "      <th>Price</th>\n",
       "    </tr>\n",
       "  </thead>\n",
       "  <tbody>\n",
       "    <tr>\n",
       "      <th>0</th>\n",
       "      <td>0.0</td>\n",
       "      <td>Apple</td>\n",
       "      <td>Ultrabook</td>\n",
       "      <td>13.3</td>\n",
       "      <td>IPS Panel Retina Display 2560x1600</td>\n",
       "      <td>Intel Core i5 2.3GHz</td>\n",
       "      <td>8GB</td>\n",
       "      <td>128GB SSD</td>\n",
       "      <td>Intel Iris Plus Graphics 640</td>\n",
       "      <td>macOS</td>\n",
       "      <td>1.37kg</td>\n",
       "      <td>71378.6832</td>\n",
       "    </tr>\n",
       "    <tr>\n",
       "      <th>1</th>\n",
       "      <td>1.0</td>\n",
       "      <td>Apple</td>\n",
       "      <td>Ultrabook</td>\n",
       "      <td>13.3</td>\n",
       "      <td>1440x900</td>\n",
       "      <td>Intel Core i5 1.8GHz</td>\n",
       "      <td>8GB</td>\n",
       "      <td>128GB Flash Storage</td>\n",
       "      <td>Intel HD Graphics 6000</td>\n",
       "      <td>macOS</td>\n",
       "      <td>1.34kg</td>\n",
       "      <td>47895.5232</td>\n",
       "    </tr>\n",
       "    <tr>\n",
       "      <th>2</th>\n",
       "      <td>2.0</td>\n",
       "      <td>HP</td>\n",
       "      <td>Notebook</td>\n",
       "      <td>15.6</td>\n",
       "      <td>Full HD 1920x1080</td>\n",
       "      <td>Intel Core i5 7200U 2.5GHz</td>\n",
       "      <td>8GB</td>\n",
       "      <td>256GB SSD</td>\n",
       "      <td>Intel HD Graphics 620</td>\n",
       "      <td>No OS</td>\n",
       "      <td>1.86kg</td>\n",
       "      <td>30636.0000</td>\n",
       "    </tr>\n",
       "    <tr>\n",
       "      <th>3</th>\n",
       "      <td>3.0</td>\n",
       "      <td>Apple</td>\n",
       "      <td>Ultrabook</td>\n",
       "      <td>15.4</td>\n",
       "      <td>IPS Panel Retina Display 2880x1800</td>\n",
       "      <td>Intel Core i7 2.7GHz</td>\n",
       "      <td>16GB</td>\n",
       "      <td>512GB SSD</td>\n",
       "      <td>AMD Radeon Pro 455</td>\n",
       "      <td>macOS</td>\n",
       "      <td>1.83kg</td>\n",
       "      <td>135195.3360</td>\n",
       "    </tr>\n",
       "    <tr>\n",
       "      <th>4</th>\n",
       "      <td>4.0</td>\n",
       "      <td>Apple</td>\n",
       "      <td>Ultrabook</td>\n",
       "      <td>13.3</td>\n",
       "      <td>IPS Panel Retina Display 2560x1600</td>\n",
       "      <td>Intel Core i5 3.1GHz</td>\n",
       "      <td>8GB</td>\n",
       "      <td>256GB SSD</td>\n",
       "      <td>Intel Iris Plus Graphics 650</td>\n",
       "      <td>macOS</td>\n",
       "      <td>1.37kg</td>\n",
       "      <td>96095.8080</td>\n",
       "    </tr>\n",
       "  </tbody>\n",
       "</table>\n",
       "</div>"
      ],
      "text/plain": [
       "   Unnamed: 0 Company   TypeName Inches                    ScreenResolution  \\\n",
       "0         0.0   Apple  Ultrabook   13.3  IPS Panel Retina Display 2560x1600   \n",
       "1         1.0   Apple  Ultrabook   13.3                            1440x900   \n",
       "2         2.0      HP   Notebook   15.6                   Full HD 1920x1080   \n",
       "3         3.0   Apple  Ultrabook   15.4  IPS Panel Retina Display 2880x1800   \n",
       "4         4.0   Apple  Ultrabook   13.3  IPS Panel Retina Display 2560x1600   \n",
       "\n",
       "                          Cpu   Ram               Memory  \\\n",
       "0        Intel Core i5 2.3GHz   8GB            128GB SSD   \n",
       "1        Intel Core i5 1.8GHz   8GB  128GB Flash Storage   \n",
       "2  Intel Core i5 7200U 2.5GHz   8GB            256GB SSD   \n",
       "3        Intel Core i7 2.7GHz  16GB            512GB SSD   \n",
       "4        Intel Core i5 3.1GHz   8GB            256GB SSD   \n",
       "\n",
       "                            Gpu  OpSys  Weight        Price  \n",
       "0  Intel Iris Plus Graphics 640  macOS  1.37kg   71378.6832  \n",
       "1        Intel HD Graphics 6000  macOS  1.34kg   47895.5232  \n",
       "2         Intel HD Graphics 620  No OS  1.86kg   30636.0000  \n",
       "3            AMD Radeon Pro 455  macOS  1.83kg  135195.3360  \n",
       "4  Intel Iris Plus Graphics 650  macOS  1.37kg   96095.8080  "
      ]
     },
     "execution_count": 48,
     "metadata": {},
     "output_type": "execute_result"
    }
   ],
   "source": [
    "# # Data Received by the other sources..\n",
    "dataset = pd.read_csv(r\"C:\\Users\\USER\\OneDrive\\Desktop\\Github\\Machine_Learning_Github\\Machine_Learning_Fundamentals\\01_Datasets\\laptopData.csv\")\n",
    "dataset.head()"
   ]
  },
  {
   "cell_type": "code",
   "execution_count": 86,
   "id": "515a2833-8336-4825-9979-c9474af1b370",
   "metadata": {},
   "outputs": [],
   "source": [
    "# dataset.loc[0:5, ['Company', 'Inches']]\n",
    "# dataset.iloc[0:5, 0:3]\n",
    "# dataset.loc[0:3, ['Company']]\n",
    "# dataset.iloc[0:3, 0:3]\n",
    "# dataset.loc[1],dataset.iloc[1]\n",
    "\n",
    "# dataset.head()\n",
    "# dataset.tail()\n",
    "# dataset.shape\n",
    "# dataset.describe()\n",
    "# dataset.info()\n",
    "# dataset.columns\n",
    "# dataset.dtypes"
   ]
  },
  {
   "cell_type": "code",
   "execution_count": 87,
   "id": "e2c0d83f-d0f7-4b99-add4-55e6511802f6",
   "metadata": {},
   "outputs": [],
   "source": [
    "# dataset.iloc[0:3]"
   ]
  },
  {
   "cell_type": "code",
   "execution_count": 117,
   "id": "9ca221b8-888b-4de0-86c2-00929f6ad98c",
   "metadata": {},
   "outputs": [
    {
     "data": {
      "text/plain": [
       "'15.6'"
      ]
     },
     "execution_count": 117,
     "metadata": {},
     "output_type": "execute_result"
    }
   ],
   "source": [
    "#  Data Selection into the pandas..\n",
    "# dataset['Inches']\n",
    "# dataset[['Inches', 'Cpu', 'ScreenResolution']]\n",
    "dataset.iat[2,3]\n",
    "# print(type(dataset.iat[2,3]))\n",
    "# dataset.iat[2,3]\n",
    "# dataset[dataset['Price'] < 10000]\n",
    "# dataset[dataset['Inches'] == '13.3']\n",
    "# dataset[dataset['Price'].isin([71378.6832, 96095.8080])]\n",
    "# dataset[dataset[\"TypeName\"].str.contains('Ultrabook')]"
   ]
  },
  {
   "cell_type": "code",
   "execution_count": null,
   "id": "065f2c4d-22cb-4617-981c-52b8defb7dce",
   "metadata": {},
   "outputs": [],
   "source": []
  },
  {
   "cell_type": "code",
   "execution_count": 222,
   "id": "3322c9ab-a26a-4571-bdfa-e4df0ca46c47",
   "metadata": {},
   "outputs": [],
   "source": [
    "#  Data Cleaning in the pandas..\n",
    "import numpy as np\n",
    "dataset = pd.read_excel(r\"C:\\Users\\USER\\OneDrive\\Desktop\\Github\\Machine_Learning_Github\\Machine_Learning_Fundamentals\\01_Datasets\\demo.xlsx\")\n",
    "\n",
    "# dataset.isnull().sum()\n",
    "# dataset.fillna(10, inplace=True)\n",
    "# dataset.replace('NaN', 3)\n",
    "# dataset.dropna()\n",
    "# dataset.duplicated().sum()\n",
    "# dataset.drop_duplicates()\n",
    "# dataset.duplicated()\n",
    "# dataset.fillna(10, inplace=True)\n",
    "# dataset.isnull().sum()\n",
    "dataset.drop_duplicates(inplace = True)\n",
    "# dataset[\"package\"] = dataset[\"package\"].bfill(dataset[\"package\"].mean(), inplace= True)\n",
    "# dataset[\"package\"] = dataset[\"package\"].fillna(dataset[\"package\"].mean())\n",
    "# dataset\n",
    "# dataset[\"package\"].fillna(dataset[\"package\"].mean(), inplace = True)\n",
    "# dataset[\"package\"] = dataset[\"package\"].replace(np.nan, 10)\n",
    "# dataset\n",
    "# dataset.isnull().sum(), dataset.notnull().sum()\n",
    "# dataset.dropna(axis=0, inplace= True)\n",
    "# dataset.dropna(axis=1, inplace=True)\n",
    "# dataset.dropna()\n",
    "\n",
    "#   Group By..\n",
    "# dataset.groupby(\"package\")\n",
    "# dataset.groupby(\"name\")[\"cgpa\"].sum()\n",
    "# dataset.groupby([\"name\", \"cgpa\"])[\"package\"].sum()\n",
    "# dataset.groupby(\"name\").agg({\"cgpa\": ['sum', 'mean']})"
   ]
  },
  {
   "cell_type": "code",
   "execution_count": 240,
   "id": "c0ab2a7b-3fbf-45fd-961d-2b84cb6d6c4a",
   "metadata": {},
   "outputs": [],
   "source": [
    "# # dataset.apply(func='sum', axis=0)\n",
    "\n",
    "# # dataset.apply(lambda x: x**2)\n",
    "# # dataset.map(lambda x: x * 2)\n",
    "# dataset.applymap(lambda x: x*2)\n"
   ]
  },
  {
   "cell_type": "code",
   "execution_count": null,
   "id": "f719621a-8e34-48ca-a967-e37ceb6e29c6",
   "metadata": {},
   "outputs": [],
   "source": []
  },
  {
   "cell_type": "code",
   "execution_count": null,
   "id": "dc4b11e1-7a2f-4831-9950-8008b8880136",
   "metadata": {},
   "outputs": [],
   "source": []
  },
  {
   "cell_type": "code",
   "execution_count": 252,
   "id": "a5a50f37-5af8-40cd-ab2d-cc3c3b413936",
   "metadata": {},
   "outputs": [
    {
     "name": "stdout",
     "output_type": "stream",
     "text": [
      "  key  value1  value2\n",
      "0   A       1       4\n",
      "1   B       2       5\n"
     ]
    }
   ],
   "source": [
    "# df1 = pd.DataFrame({'A': ['1', '2', '3'], 'B': ['4.5', '5.6', '6.7']})\n",
    "# df2 = pd.DataFrame({'A': ['4', '5', '6'], 'B': ['7.5', '8.6', '9.7']})\n",
    "\n",
    "# # df3 = pd.concat([df1, df2], axis = 0)\n",
    "# df3 = pd.merge(df1, df2, on ='key', how = 'left')\n",
    "# df3\n",
    "# Sample DataFrames\n",
    "df1 = pd.DataFrame({'key': ['A', 'B', 'C'], 'value1': [1, 2, 3]})\n",
    "df2 = pd.DataFrame({'key': ['A', 'B', 'D'], 'value2': [4, 5, 6]})\n",
    "\n",
    "# Merge DataFrames\n",
    "result = pd.merge(df1, df2, how='inner', on='key')\n",
    "print(result)"
   ]
  }
 ],
 "metadata": {
  "kernelspec": {
   "display_name": "Python 3 (ipykernel)",
   "language": "python",
   "name": "python3"
  },
  "language_info": {
   "codemirror_mode": {
    "name": "ipython",
    "version": 3
   },
   "file_extension": ".py",
   "mimetype": "text/x-python",
   "name": "python",
   "nbconvert_exporter": "python",
   "pygments_lexer": "ipython3",
   "version": "3.12.6"
  }
 },
 "nbformat": 4,
 "nbformat_minor": 5
}
